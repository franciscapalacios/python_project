{
 "cells": [
  {
   "cell_type": "code",
   "execution_count": 1,
   "metadata": {},
   "outputs": [],
   "source": [
    "import numpy as np\n",
    "import pandas as pd\n",
    "from geopy.geocoders import Nominatim\n",
    "import plotly.express as px\n",
    "import seaborn as sns\n",
    "import matplotlib.pyplot as plt\n",
    "import os\n",
    "import requests, time\n",
    "import plotly\n",
    "from plotly_gif import GIF, capture\n",
    "\n",
    "from import_clean_data import import_clean_airport_df"
   ]
  },
  {
   "cell_type": "code",
   "execution_count": 2,
   "metadata": {},
   "outputs": [
    {
     "name": "stdout",
     "output_type": "stream",
     "text": [
      "Importing data...\n",
      "Binarize delay types...\n",
      "Creating delay size variables...\n",
      "Getting dummy variables for delay sizes...\n",
      "Adding other delays...\n"
     ]
    }
   ],
   "source": [
    "pd.set_option('display.max_columns', None)\n",
    "\n",
    "df = import_clean_airport_df('airport_data.csv')\n",
    "\n",
    "county_df = pd.read_csv('state_and_county_fips_master.csv')"
   ]
  },
  {
   "cell_type": "code",
   "execution_count": 3,
   "metadata": {},
   "outputs": [],
   "source": [
    "# Add States\n",
    "geolocator = Nominatim(user_agent=\"http\")\n",
    "\n",
    "airports = df[['DEPARTING_AIRPORT', 'LATITUDE', 'LONGITUDE']].drop_duplicates().reset_index(drop=True)\n",
    "\n",
    "airports_state = airports.apply(lambda col: geolocator.reverse((col.LATITUDE, col.LONGITUDE)).raw['address'], axis=1)\n",
    "\n",
    "for i in range(airports_state.shape[0]):\n",
    "    if 'aeroway' in airports_state[i].keys() and airports_state[i]['aeroway'] == 'Bradley International Airport':\n",
    "        airports_state[i]['ISO3166-2-lvl4'] = 'CT'\n",
    "\n",
    "airports_col = [ sub['ISO3166-2-lvl4'][-2:] for sub in airports_state ]\n",
    "\n",
    "airports = airports.reset_index(drop=True)\n",
    "airports['state'] = airports_col\n",
    "airports = airports[airports['state'] != 'PR']\n",
    "\n",
    "df = df.merge(airports[['DEPARTING_AIRPORT', 'state']], on='DEPARTING_AIRPORT')\n",
    "\n",
    "df = df[df['state']!='PR']"
   ]
  },
  {
   "cell_type": "code",
   "execution_count": 5,
   "metadata": {},
   "outputs": [],
   "source": [
    "# Add counties\n",
    "\n",
    "airports_state[33]['county'] = 'New York County'\n",
    "airports_state[35]['county'] = 'New York County'\n",
    "airports_state[38]['county'] = 'Denver County'\n",
    "airports_state[53]['county'] = 'Norfolk County'\n",
    "\n",
    "airports_col = [ sub['county'] for sub in airports_state if sub['ISO3166-2-lvl4'] != 'US-PR']\n",
    "\n",
    "airports['county'] = airports_col\n",
    "\n",
    "df = df.merge(airports[['DEPARTING_AIRPORT', 'county']], on='DEPARTING_AIRPORT')"
   ]
  },
  {
   "cell_type": "code",
   "execution_count": 6,
   "metadata": {},
   "outputs": [],
   "source": [
    "fips_df = df.merge(county_df, left_on=['county', 'state'], right_on=['name', 'state'], how='left')\n",
    "\n",
    "fips_df.loc[fips_df['DEPARTING_AIRPORT']=='Lambert-St. Louis International', 'fips'] = 29510\n",
    "fips_df.loc[fips_df['DEPARTING_AIRPORT']=='Bradley International', 'fips'] = 9003\n",
    "fips_df.loc[fips_df['DEPARTING_AIRPORT']=='Norfolk International', 'fips'] = 51710\n",
    "\n",
    "fips_df = fips_df[~fips_df['fips'].isna()]#.DEPARTING_AIRPORT.value_counts()"
   ]
  },
  {
   "cell_type": "code",
   "execution_count": 7,
   "metadata": {},
   "outputs": [],
   "source": [
    "from urllib.request import urlopen\n",
    "import json\n",
    "with urlopen('https://raw.githubusercontent.com/plotly/datasets/master/geojson-counties-fips.json') as response:\n",
    "    counties = json.load(response)"
   ]
  },
  {
   "cell_type": "code",
   "execution_count": 11,
   "metadata": {},
   "outputs": [],
   "source": [
    "df_prov = fips_df.groupby(['county','fips', 'MONTH']).WEATHER_DELAY.mean().reset_index()\n",
    "\n",
    "fig = px.scatter_geo(df_prov,\n",
    "                           geojson=counties, locations='fips', color='WEATHER_DELAY',\n",
    "                           color_continuous_scale=\"Viridis_r\",\n",
    "                           range_color=(0, 0.065),\n",
    "                           scope=\"usa\",\n",
    "                           labels={'WEATHER_DELAY':'Perc of Weather Delay'},\n",
    "                           animation_frame='MONTH', \n",
    "                           size=df_prov[\"WEATHER_DELAY\"]*100,\n",
    "                           title='Weather Delays for US Regions'\n",
    "                          )\n",
    "fig.update_layout(margin={\"r\":0,\"t\":40,\"l\":0,\"b\":0})"
   ]
  },
  {
   "cell_type": "code",
   "execution_count": 10,
   "metadata": {},
   "outputs": [],
   "source": [
    "df_prov = fips_df.groupby(['county','fips', 'MONTH']).DEP_DEL15.mean().reset_index()\n",
    "\n",
    "fig = px.scatter_geo(df_prov,\n",
    "                           geojson=counties, locations='fips', color='DEP_DEL15',\n",
    "                           color_continuous_scale=\"Viridis_r\",\n",
    "                           range_color=(0.067, 0.354),\n",
    "                           scope=\"usa\",\n",
    "                           labels={'DEP_DEL15':'Perc of Delays'},\n",
    "                           animation_frame='MONTH', \n",
    "                           size=df_prov[\"DEP_DEL15\"]*100,\n",
    "                           title='Delays for US Regions'\n",
    "                          )\n",
    "fig.update_layout(margin={\"r\":0,\"t\":40,\"l\":0,\"b\":0})"
   ]
  },
  {
   "cell_type": "code",
   "execution_count": null,
   "metadata": {},
   "outputs": [],
   "source": [
    "import PIL\n",
    "import io\n",
    "\n",
    "frames = []\n",
    "for s, fr in enumerate(fig.frames):\n",
    "    # set main traces to appropriate traces within plotly frame\n",
    "    fig.update(data=fr.data)\n",
    "    # move slider to correct place\n",
    "    fig.layout.sliders[0].update(active=s)\n",
    "    # generate image of current state\n",
    "    frames.append(PIL.Image.open(io.BytesIO(fig.to_image(format=\"png\"))))\n",
    "    \n",
    "# create animated GIF\n",
    "frames[0].save(\n",
    "        \"AIRPORT_2.gif\",\n",
    "        save_all=True,\n",
    "        append_images=frames[1:],\n",
    "        optimize=True,\n",
    "        duration=500,\n",
    "        loop=0,\n",
    "    )"
   ]
  },
  {
   "cell_type": "code",
   "execution_count": null,
   "metadata": {},
   "outputs": [],
   "source": []
  }
 ],
 "metadata": {
  "kernelspec": {
   "display_name": "Python 3",
   "language": "python",
   "name": "python3"
  },
  "language_info": {
   "codemirror_mode": {
    "name": "ipython",
    "version": 3
   },
   "file_extension": ".py",
   "mimetype": "text/x-python",
   "name": "python",
   "nbconvert_exporter": "python",
   "pygments_lexer": "ipython3",
   "version": "3.10.8"
  },
  "orig_nbformat": 4,
  "vscode": {
   "interpreter": {
    "hash": "c2d6fff8a9854866df3f19b3a8183802133e53751b5ea404015c5cd6c988ae49"
   }
  }
 },
 "nbformat": 4,
 "nbformat_minor": 2
}
